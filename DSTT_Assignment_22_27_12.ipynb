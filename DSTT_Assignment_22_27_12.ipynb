{
  "nbformat": 4,
  "nbformat_minor": 0,
  "metadata": {
    "colab": {
      "provenance": [],
      "authorship_tag": "ABX9TyMBQRO4jFxwZdtuUqOhop8K",
      "include_colab_link": true
    },
    "kernelspec": {
      "name": "python3",
      "display_name": "Python 3"
    },
    "language_info": {
      "name": "python"
    }
  },
  "cells": [
    {
      "cell_type": "markdown",
      "metadata": {
        "id": "view-in-github",
        "colab_type": "text"
      },
      "source": [
        "<a href=\"https://colab.research.google.com/github/IamTapass/DSTT-Assignment-1/blob/main/DSTT_Assignment_22_27_12.ipynb\" target=\"_parent\"><img src=\"https://colab.research.google.com/assets/colab-badge.svg\" alt=\"Open In Colab\"/></a>"
      ]
    },
    {
      "cell_type": "code",
      "execution_count": null,
      "metadata": {
        "id": "e9yH2SNEzAcT"
      },
      "outputs": [],
      "source": [
        "lst = list(map(int, input().split()))\n",
        "\n",
        "# Initialize an empty list to store the non-multiples of 5\n",
        "result = []\n",
        "\n",
        "# Iterate over the list and check if each number is not a multiple of 5\n",
        "for num in lst:\n",
        "    if num % 5 != 0:\n",
        "        result.append(num)\n",
        "\n",
        "# Print the non-multiples of 5 separated by a space\n",
        "print(*result)"
      ]
    },
    {
      "cell_type": "code",
      "source": [
        "# Define a list of integers\n",
        "numbers = [5, 2, 9, 1, 5, 6, 3, 8, 2]\n",
        "\n",
        "# Convert the list to a set to remove duplicates\n",
        "unique_numbers = set(numbers)\n",
        "\n",
        "# Convert the set back to a list and sort it in ascending order\n",
        "sorted_numbers = sorted(unique_numbers)\n",
        "\n",
        "# Print the second minimum and second maximum\n",
        "print(\"Second minimum:\", sorted_numbers[1])\n",
        "print(\"Second maximum:\", sorted_numbers[-2])"
      ],
      "metadata": {
        "id": "ifRVSOvO0_-u"
      },
      "execution_count": null,
      "outputs": []
    },
    {
      "cell_type": "code",
      "source": [
        "\n",
        "lst = list(map(int, input().split()))\n",
        "\n",
        "# Initialize an empty list to store the non-multiples of 5\n",
        "result = []\n",
        "\n",
        "# Iterate over the list and check if each number is not a multiple of 5\n",
        "for num in lst:\n",
        "    if num % 5 != 0:\n",
        "        result.append(num)\n",
        "\n",
        "# Print the non-multiples of 5 separated by a space\n",
        "print(*result)\n"
      ],
      "metadata": {
        "id": "zGbjC1Rr1kdV"
      },
      "execution_count": null,
      "outputs": []
    },
    {
      "cell_type": "code",
      "source": [
        "# Read the string of 0's and 1's from input\n",
        "s = input()\n",
        "\n",
        "# Count the number of 0's and 1's in the string\n",
        "num_zeros = s.count('0')\n",
        "num_ones = s.count('1')\n",
        "\n",
        "# Determine if it's possible to make all the digits the same by flipping just one digit\n",
        "if num_zeros == 1 or num_ones == 1:\n",
        "    print(\"YES\")\n",
        "elif num_zeros == 0 or num_ones == 0:\n",
        "    print(\"NO\")\n",
        "else:\n",
        "    print(\"NO\")\n"
      ],
      "metadata": {
        "id": "HEIewOyJ14xv"
      },
      "execution_count": null,
      "outputs": []
    },
    {
      "cell_type": "code",
      "source": [
        "# Read the input number\n",
        "n = int(input())\n",
        "\n",
        "# Compute the factorial of n\n",
        "factorial = 1\n",
        "for i in range(1, n+1):\n",
        "    factorial *= i\n",
        "\n",
        "# Print the factorial of n\n",
        "print(factorial)\n"
      ],
      "metadata": {
        "id": "N6mjlZet2F4Q"
      },
      "execution_count": null,
      "outputs": []
    },
    {
      "cell_type": "code",
      "source": [
        "# Read the input values m and n\n",
        "m, n = map(int, input().split(','))\n",
        "\n",
        "# Initialize an empty list to store the even-digit numbers\n",
        "result = []\n",
        "\n",
        "# Iterate over the range from m to n (both inclusive) and check if each number has all even digits\n",
        "for i in range(m, n+1):\n",
        "    digits = str(i)\n",
        "    all_even = True\n",
        "    for digit in digits:\n",
        "        if int(digit) % 2 != 0:\n",
        "            all_even = False\n",
        "            break\n",
        "    if all_even:\n",
        "        result.append(str(i))\n",
        "\n",
        "# Print the even-digit numbers separated by commas\n",
        "print(','.join(result))\n"
      ],
      "metadata": {
        "id": "DPLOenPc2R5v"
      },
      "execution_count": null,
      "outputs": []
    }
  ]
}